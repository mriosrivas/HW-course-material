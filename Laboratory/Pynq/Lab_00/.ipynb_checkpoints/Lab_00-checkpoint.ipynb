{
 "cells": [
  {
   "cell_type": "code",
   "execution_count": null,
   "metadata": {},
   "outputs": [],
   "source": [
    "from pynq import Overlay\n",
    "from pynq import MMIO\n",
    "from pynq import allocate\n",
    "\n",
    "import os\n",
    "import numpy as np\n",
    "import pickle\n",
    "\n",
    "overlay = Overlay('/home/xilinx/pynq/overlays/hw_aq/lab_00.bit')"
   ]
  },
  {
   "cell_type": "code",
   "execution_count": null,
   "metadata": {},
   "outputs": [],
   "source": [
    "#overlay?"
   ]
  },
  {
   "cell_type": "code",
   "execution_count": null,
   "metadata": {},
   "outputs": [],
   "source": [
    "# AXI lite interface object instance\n",
    "# Used for control signals\n",
    "#\n",
    "# Address   |  Address   |          Signal\n",
    "# (HEX)     |  (DEC)     |\n",
    "# 0x0000    |  0x0000    |  input data in_a\n",
    "# 0x0004    |  0x0004    |  input data in_b\n",
    "# 0x0008    |  0x0008    |  output data out\n",
    "\n",
    "# Data Signals\n",
    "in_a = 0x0000\n",
    "in_b = 0x0004\n",
    "out = 0x0008\n",
    "\n",
    "axi_interface = overlay.lab_01_ip_0"
   ]
  },
  {
   "cell_type": "code",
   "execution_count": null,
   "metadata": {},
   "outputs": [],
   "source": [
    "# Load a and b into memory\n",
    "axi_interface.write(in_a,25)\n",
    "axi_interface.write(in_b,35)"
   ]
  },
  {
   "cell_type": "code",
   "execution_count": null,
   "metadata": {},
   "outputs": [],
   "source": [
    "\n",
    "axi_interface.write(out,0)"
   ]
  },
  {
   "cell_type": "code",
   "execution_count": null,
   "metadata": {},
   "outputs": [],
   "source": [
    "print('in_a = {}'.format(axi_interface.read(in_a)))\n",
    "print('in_b = {}'.format(axi_interface.read(in_b)))"
   ]
  },
  {
   "cell_type": "code",
   "execution_count": null,
   "metadata": {},
   "outputs": [],
   "source": [
    "print('in_a + in_b = {}'.format(axi_interface.read(out)))"
   ]
  },
  {
   "cell_type": "code",
   "execution_count": null,
   "metadata": {},
   "outputs": [],
   "source": []
  }
 ],
 "metadata": {
  "kernelspec": {
   "display_name": "Python 3",
   "language": "python",
   "name": "python3"
  },
  "language_info": {
   "codemirror_mode": {
    "name": "ipython",
    "version": 3
   },
   "file_extension": ".py",
   "mimetype": "text/x-python",
   "name": "python",
   "nbconvert_exporter": "python",
   "pygments_lexer": "ipython3",
   "version": "3.8.3"
  }
 },
 "nbformat": 4,
 "nbformat_minor": 2
}
