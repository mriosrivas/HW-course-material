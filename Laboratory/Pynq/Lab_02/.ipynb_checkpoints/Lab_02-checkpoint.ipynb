{
 "cells": [
  {
   "cell_type": "code",
   "execution_count": 1,
   "metadata": {},
   "outputs": [
    {
     "data": {
      "application/javascript": [
       "\n",
       "try {\n",
       "require(['notebook/js/codecell'], function(codecell) {\n",
       "  codecell.CodeCell.options_default.highlight_modes[\n",
       "      'magic_text/x-csrc'] = {'reg':[/^%%microblaze/]};\n",
       "  Jupyter.notebook.events.one('kernel_ready.Kernel', function(){\n",
       "      Jupyter.notebook.get_cells().map(function(cell){\n",
       "          if (cell.cell_type == 'code'){ cell.auto_highlight(); } }) ;\n",
       "  });\n",
       "});\n",
       "} catch (e) {};\n"
      ]
     },
     "metadata": {},
     "output_type": "display_data"
    },
    {
     "data": {
      "application/javascript": [
       "\n",
       "try {\n",
       "require(['notebook/js/codecell'], function(codecell) {\n",
       "  codecell.CodeCell.options_default.highlight_modes[\n",
       "      'magic_text/x-csrc'] = {'reg':[/^%%pybind11/]};\n",
       "  Jupyter.notebook.events.one('kernel_ready.Kernel', function(){\n",
       "      Jupyter.notebook.get_cells().map(function(cell){\n",
       "          if (cell.cell_type == 'code'){ cell.auto_highlight(); } }) ;\n",
       "  });\n",
       "});\n",
       "} catch (e) {};\n"
      ]
     },
     "metadata": {},
     "output_type": "display_data"
    }
   ],
   "source": [
    "from pynq import Overlay\n",
    "import numpy as np\n",
    "\n",
    "\n",
    "overlay = Overlay('/home/xilinx/pynq/overlays/Manuel/Lab_02/lab_02_design_ver_1d.bit')"
   ]
  },
  {
   "cell_type": "code",
   "execution_count": 2,
   "metadata": {},
   "outputs": [],
   "source": [
    "#overlay?"
   ]
  },
  {
   "cell_type": "code",
   "execution_count": 3,
   "metadata": {},
   "outputs": [],
   "source": [
    "# AXI lite interface object instance\n",
    "# Used for data signals\n",
    "#\n",
    "# Address   |  Address   |          Signal\n",
    "# (HEX)     |  (DEC)     |\n",
    "# 0x0000    |   0000     |  input pointer_A\n",
    "# 0x0004    |   0004     |  input pointer_B\n",
    "# 0x0008    |   0008     |  input pointer_code\n",
    "# 0x000C    |   0012     |  output pointer_Y\n",
    "# 0x0010    |   0016     |  output pointer_Cout\n",
    "\n",
    "# Data Signals\n",
    "pointer_code = 0x0000\n",
    "pointer_A = 0x0004\n",
    "pointer_B = 0x0008\n",
    "pointer_Y = 0x000C\n",
    "pointer_Cout =0x0010\n",
    "\n",
    "axi_interface = overlay.axi_alu_data_0"
   ]
  },
  {
   "cell_type": "code",
   "execution_count": 4,
   "metadata": {},
   "outputs": [],
   "source": [
    "# Load A and B into memory\n",
    "A = 31\n",
    "B = 32\n",
    "\n",
    "axi_interface.write(pointer_A, A)\n",
    "axi_interface.write(pointer_B, B)"
   ]
  },
  {
   "cell_type": "code",
   "execution_count": 5,
   "metadata": {},
   "outputs": [],
   "source": [
    "# code  |  function\n",
    "# 000   |   A & B\n",
    "# 001   |   A | B\n",
    "# 010   |   A + B\n",
    "# 011   |   Not defined\n",
    "# 100   |   A & (~B)\n",
    "# 101   |   A | (~B)\n",
    "# 110   |   A - B\n",
    "# 111   |   SLT\n",
    "\n",
    "# codes\n",
    "and_ = 0\n",
    "or_ = 1\n",
    "add_ = 2\n",
    "and_not_ = 4\n",
    "or_not_ = 5\n",
    "dif_ = 6\n",
    "slt_ = 7\n",
    "\n",
    "#Load code\n",
    "code = dif_\n",
    "axi_interface.write(pointer_code, code) "
   ]
  },
  {
   "cell_type": "code",
   "execution_count": 6,
   "metadata": {},
   "outputs": [],
   "source": [
    "# Load data to register\n",
    "axi_interface.write(pointer_Y, 1)"
   ]
  },
  {
   "cell_type": "code",
   "execution_count": 7,
   "metadata": {},
   "outputs": [
    {
     "name": "stdout",
     "output_type": "stream",
     "text": [
      "-1\n"
     ]
    }
   ],
   "source": [
    "# Read result\n",
    "print((np.array(axi_interface.read(pointer_Y))).astype('int16'))"
   ]
  },
  {
   "cell_type": "code",
   "execution_count": 8,
   "metadata": {},
   "outputs": [],
   "source": [
    "# Load data to register\n",
    "axi_interface.write(pointer_Cout,0)"
   ]
  },
  {
   "cell_type": "code",
   "execution_count": 9,
   "metadata": {},
   "outputs": [
    {
     "name": "stdout",
     "output_type": "stream",
     "text": [
      "0\n"
     ]
    }
   ],
   "source": [
    "# Read result\n",
    "print((np.array(axi_interface.read(pointer_Cout))).astype('int16'))"
   ]
  },
  {
   "cell_type": "code",
   "execution_count": null,
   "metadata": {},
   "outputs": [],
   "source": []
  }
 ],
 "metadata": {
  "kernelspec": {
   "display_name": "Python 3",
   "language": "python",
   "name": "python3"
  },
  "language_info": {
   "codemirror_mode": {
    "name": "ipython",
    "version": 3
   },
   "file_extension": ".py",
   "mimetype": "text/x-python",
   "name": "python",
   "nbconvert_exporter": "python",
   "pygments_lexer": "ipython3",
   "version": "3.8.3"
  }
 },
 "nbformat": 4,
 "nbformat_minor": 2
}
